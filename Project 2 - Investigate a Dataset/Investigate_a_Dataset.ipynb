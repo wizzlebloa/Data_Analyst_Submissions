{
 "cells": [
  {
   "cell_type": "markdown",
   "id": "rough-fourth",
   "metadata": {},
   "source": [
    "# Project: Exploratory Data Analysis of Medical Appointment No Shows\n",
    "## Table of Contents\n",
    "<ul>\n",
    "<li><a href=\"#intro\">Introduction</a></li>\n",
    "<li><a href=\"#wrangling\">Data Wrangling</a></li>\n",
    "<li><a href=\"#eda\">Exploratory Data Analysis</a></li>\n",
    "<li><a href=\"#conclusions\">Conclusions</a></li>\n",
    "</ul>"
   ]
  },
  {
   "cell_type": "markdown",
   "id": "behind-chain",
   "metadata": {},
   "source": [
    "<a id='intro'></a>\n",
    "## Introduction\n",
    "\n",
    "In this notebook I'm going to analyze the dataset [Medical Appointment No Shows](https://www.kaggle.com/joniarroba/noshowappointments).\n",
    "This dataset consists of 100k+ medical appointments in Brazil.  \n",
    "The focus of the dataset is to answer the following question:\n",
    "##### Why do people not show up to a medical appointment?\n",
    "  \n",
    "  \n",
    "  \n",
    "Following information is provided for each appointment:\n",
    "* PatientId: patient unique identification\n",
    "* AppointmentID: appointment unique identification\n",
    "* Gender: patient gender\n",
    "* ScheduledDay: appointment scheduled date\n",
    "* AppointmentDay: appointment date\n",
    "* Age: patient age\n",
    "* Neighbourhood: where the appointment took place\n",
    "* Scholarship: tells if patient is enrolled in Brasilian welfare program [Bolsa Família](https://en.wikipedia.org/wiki/Bolsa_Fam%C3%ADlia)\n",
    "* Hipertension: indicates if patient have hipertension\n",
    "* Diabetes: indicates if patient has diabetes\n",
    "* Alcoholism: indicates if patient has alcoholism\n",
    "* Handcap: indicates number of disabilities\n",
    "* SMS_received: indicates if the patient received at least one sms reminder about the appointment\n",
    "* No-show: indicates if the patient attended the appointment\n",
    "\n",
    "To answer the basic question following questions can be addressed based on the dataset:\n",
    "  1.  Does the time span between appointment scheduled day and appointment day affect the patient's absence?\n",
    "  2.  Does the week day of the appointment affect a patient's absence?\n",
    "  3.  Is it relevant whether there is a weekend in between the day when an appointment was scheduled and the day of the appointment \n",
    "  4.  Do people with specific health features (diabetes, hipertension...) tend to not show up\n",
    "  5.  Are there time spans in the dataset where people showed up less\n",
    "  6.  Do particular patients have an impact on the statistic, i.e. because the miss appointments on a regular basis\n",
    "  7.  Does the neighborhood where an appointment took place have an affect on showing up or not\n",
    "  8.  Does the enrollment to the welfare program have an affect on showing up or not\n",
    "  9.  Do people of a specific age or gender tend to not show up? \n",
    "  \n",
    "Considering the available time for the project, I'm going to focus on the first two questions."
   ]
  },
  {
   "cell_type": "code",
   "execution_count": 1,
   "id": "cooperative-patch",
   "metadata": {},
   "outputs": [],
   "source": [
    "import numpy as np\n",
    "import pandas as pd\n",
    "import matplotlib.pyplot as plt\n",
    "import seaborn as sns\n",
    "%matplotlib inline\n",
    "import datetime"
   ]
  },
  {
   "cell_type": "markdown",
   "id": "successful-wednesday",
   "metadata": {},
   "source": [
    "<a id='wrangling'></a>\n",
    "## Data Wrangling\n",
    "\n",
    "### General Properties"
   ]
  },
  {
   "cell_type": "code",
   "execution_count": 2,
   "id": "mysterious-township",
   "metadata": {},
   "outputs": [],
   "source": [
    "# Load your data and print out a few lines. Perform operations to inspect data\n",
    "#   types and look for instances of missing or possibly errant data.\n",
    "df = pd.read_csv('Data/noshowappointments-kagglev2-may-2016.csv')"
   ]
  },
  {
   "cell_type": "code",
   "execution_count": 3,
   "id": "answering-zambia",
   "metadata": {},
   "outputs": [
    {
     "name": "stdout",
     "output_type": "stream",
     "text": [
      "<class 'pandas.core.frame.DataFrame'>\n",
      "RangeIndex: 110527 entries, 0 to 110526\n",
      "Data columns (total 14 columns):\n",
      " #   Column          Non-Null Count   Dtype  \n",
      "---  ------          --------------   -----  \n",
      " 0   PatientId       110527 non-null  float64\n",
      " 1   AppointmentID   110527 non-null  int64  \n",
      " 2   Gender          110527 non-null  object \n",
      " 3   ScheduledDay    110527 non-null  object \n",
      " 4   AppointmentDay  110527 non-null  object \n",
      " 5   Age             110527 non-null  int64  \n",
      " 6   Neighbourhood   110527 non-null  object \n",
      " 7   Scholarship     110527 non-null  int64  \n",
      " 8   Hipertension    110527 non-null  int64  \n",
      " 9   Diabetes        110527 non-null  int64  \n",
      " 10  Alcoholism      110527 non-null  int64  \n",
      " 11  Handcap         110527 non-null  int64  \n",
      " 12  SMS_received    110527 non-null  int64  \n",
      " 13  No-show         110527 non-null  object \n",
      "dtypes: float64(1), int64(8), object(5)\n",
      "memory usage: 11.8+ MB\n"
     ]
    }
   ],
   "source": [
    "# get information about fields, missing data and data types\n",
    "df.info()"
   ]
  },
  {
   "cell_type": "markdown",
   "id": "collectible-platform",
   "metadata": {},
   "source": [
    "First of all there seems to be no missing data in terms of null values.   \n",
    "__ScheduledDay__ and __AppointmentDay__ are strings which will have to be converted to date types if used for analysis."
   ]
  },
  {
   "cell_type": "code",
   "execution_count": 4,
   "id": "sealed-butterfly",
   "metadata": {},
   "outputs": [
    {
     "data": {
      "text/plain": [
       "(110527, 14)"
      ]
     },
     "execution_count": 4,
     "metadata": {},
     "output_type": "execute_result"
    }
   ],
   "source": [
    "#get the size of the dataset\n",
    "df.shape"
   ]
  },
  {
   "cell_type": "markdown",
   "id": "discrete-murray",
   "metadata": {},
   "source": [
    "The dataset consists of 110527 lines and 14 columns."
   ]
  },
  {
   "cell_type": "code",
   "execution_count": 5,
   "id": "decent-factor",
   "metadata": {
    "scrolled": true
   },
   "outputs": [
    {
     "data": {
      "text/html": [
       "<div>\n",
       "<style scoped>\n",
       "    .dataframe tbody tr th:only-of-type {\n",
       "        vertical-align: middle;\n",
       "    }\n",
       "\n",
       "    .dataframe tbody tr th {\n",
       "        vertical-align: top;\n",
       "    }\n",
       "\n",
       "    .dataframe thead th {\n",
       "        text-align: right;\n",
       "    }\n",
       "</style>\n",
       "<table border=\"1\" class=\"dataframe\">\n",
       "  <thead>\n",
       "    <tr style=\"text-align: right;\">\n",
       "      <th></th>\n",
       "      <th>PatientId</th>\n",
       "      <th>AppointmentID</th>\n",
       "      <th>Gender</th>\n",
       "      <th>ScheduledDay</th>\n",
       "      <th>AppointmentDay</th>\n",
       "      <th>Age</th>\n",
       "      <th>Neighbourhood</th>\n",
       "      <th>Scholarship</th>\n",
       "      <th>Hipertension</th>\n",
       "      <th>Diabetes</th>\n",
       "      <th>Alcoholism</th>\n",
       "      <th>Handcap</th>\n",
       "      <th>SMS_received</th>\n",
       "      <th>No-show</th>\n",
       "    </tr>\n",
       "  </thead>\n",
       "  <tbody>\n",
       "    <tr>\n",
       "      <th>0</th>\n",
       "      <td>2.987250e+13</td>\n",
       "      <td>5642903</td>\n",
       "      <td>F</td>\n",
       "      <td>2016-04-29T18:38:08Z</td>\n",
       "      <td>2016-04-29T00:00:00Z</td>\n",
       "      <td>62</td>\n",
       "      <td>JARDIM DA PENHA</td>\n",
       "      <td>0</td>\n",
       "      <td>1</td>\n",
       "      <td>0</td>\n",
       "      <td>0</td>\n",
       "      <td>0</td>\n",
       "      <td>0</td>\n",
       "      <td>No</td>\n",
       "    </tr>\n",
       "    <tr>\n",
       "      <th>1</th>\n",
       "      <td>5.589978e+14</td>\n",
       "      <td>5642503</td>\n",
       "      <td>M</td>\n",
       "      <td>2016-04-29T16:08:27Z</td>\n",
       "      <td>2016-04-29T00:00:00Z</td>\n",
       "      <td>56</td>\n",
       "      <td>JARDIM DA PENHA</td>\n",
       "      <td>0</td>\n",
       "      <td>0</td>\n",
       "      <td>0</td>\n",
       "      <td>0</td>\n",
       "      <td>0</td>\n",
       "      <td>0</td>\n",
       "      <td>No</td>\n",
       "    </tr>\n",
       "    <tr>\n",
       "      <th>2</th>\n",
       "      <td>4.262962e+12</td>\n",
       "      <td>5642549</td>\n",
       "      <td>F</td>\n",
       "      <td>2016-04-29T16:19:04Z</td>\n",
       "      <td>2016-04-29T00:00:00Z</td>\n",
       "      <td>62</td>\n",
       "      <td>MATA DA PRAIA</td>\n",
       "      <td>0</td>\n",
       "      <td>0</td>\n",
       "      <td>0</td>\n",
       "      <td>0</td>\n",
       "      <td>0</td>\n",
       "      <td>0</td>\n",
       "      <td>No</td>\n",
       "    </tr>\n",
       "    <tr>\n",
       "      <th>3</th>\n",
       "      <td>8.679512e+11</td>\n",
       "      <td>5642828</td>\n",
       "      <td>F</td>\n",
       "      <td>2016-04-29T17:29:31Z</td>\n",
       "      <td>2016-04-29T00:00:00Z</td>\n",
       "      <td>8</td>\n",
       "      <td>PONTAL DE CAMBURI</td>\n",
       "      <td>0</td>\n",
       "      <td>0</td>\n",
       "      <td>0</td>\n",
       "      <td>0</td>\n",
       "      <td>0</td>\n",
       "      <td>0</td>\n",
       "      <td>No</td>\n",
       "    </tr>\n",
       "    <tr>\n",
       "      <th>4</th>\n",
       "      <td>8.841186e+12</td>\n",
       "      <td>5642494</td>\n",
       "      <td>F</td>\n",
       "      <td>2016-04-29T16:07:23Z</td>\n",
       "      <td>2016-04-29T00:00:00Z</td>\n",
       "      <td>56</td>\n",
       "      <td>JARDIM DA PENHA</td>\n",
       "      <td>0</td>\n",
       "      <td>1</td>\n",
       "      <td>1</td>\n",
       "      <td>0</td>\n",
       "      <td>0</td>\n",
       "      <td>0</td>\n",
       "      <td>No</td>\n",
       "    </tr>\n",
       "  </tbody>\n",
       "</table>\n",
       "</div>"
      ],
      "text/plain": [
       "      PatientId  AppointmentID Gender          ScheduledDay  \\\n",
       "0  2.987250e+13        5642903      F  2016-04-29T18:38:08Z   \n",
       "1  5.589978e+14        5642503      M  2016-04-29T16:08:27Z   \n",
       "2  4.262962e+12        5642549      F  2016-04-29T16:19:04Z   \n",
       "3  8.679512e+11        5642828      F  2016-04-29T17:29:31Z   \n",
       "4  8.841186e+12        5642494      F  2016-04-29T16:07:23Z   \n",
       "\n",
       "         AppointmentDay  Age      Neighbourhood  Scholarship  Hipertension  \\\n",
       "0  2016-04-29T00:00:00Z   62    JARDIM DA PENHA            0             1   \n",
       "1  2016-04-29T00:00:00Z   56    JARDIM DA PENHA            0             0   \n",
       "2  2016-04-29T00:00:00Z   62      MATA DA PRAIA            0             0   \n",
       "3  2016-04-29T00:00:00Z    8  PONTAL DE CAMBURI            0             0   \n",
       "4  2016-04-29T00:00:00Z   56    JARDIM DA PENHA            0             1   \n",
       "\n",
       "   Diabetes  Alcoholism  Handcap  SMS_received No-show  \n",
       "0         0           0        0             0      No  \n",
       "1         0           0        0             0      No  \n",
       "2         0           0        0             0      No  \n",
       "3         0           0        0             0      No  \n",
       "4         1           0        0             0      No  "
      ]
     },
     "execution_count": 5,
     "metadata": {},
     "output_type": "execute_result"
    }
   ],
   "source": [
    "#display first lines of data to get an ideo of the dataset\n",
    "df.head()"
   ]
  },
  {
   "cell_type": "markdown",
   "id": "united-gathering",
   "metadata": {},
   "source": [
    "__AppointmentDay__ seems to have no time attached while __ScheduledDay__ has a timestamp"
   ]
  },
  {
   "cell_type": "code",
   "execution_count": 6,
   "id": "discrete-softball",
   "metadata": {},
   "outputs": [
    {
     "data": {
      "text/html": [
       "<div>\n",
       "<style scoped>\n",
       "    .dataframe tbody tr th:only-of-type {\n",
       "        vertical-align: middle;\n",
       "    }\n",
       "\n",
       "    .dataframe tbody tr th {\n",
       "        vertical-align: top;\n",
       "    }\n",
       "\n",
       "    .dataframe thead th {\n",
       "        text-align: right;\n",
       "    }\n",
       "</style>\n",
       "<table border=\"1\" class=\"dataframe\">\n",
       "  <thead>\n",
       "    <tr style=\"text-align: right;\">\n",
       "      <th></th>\n",
       "      <th>PatientId</th>\n",
       "      <th>AppointmentID</th>\n",
       "      <th>Gender</th>\n",
       "      <th>ScheduledDay</th>\n",
       "      <th>AppointmentDay</th>\n",
       "      <th>Age</th>\n",
       "      <th>Neighbourhood</th>\n",
       "      <th>Scholarship</th>\n",
       "      <th>Hipertension</th>\n",
       "      <th>Diabetes</th>\n",
       "      <th>Alcoholism</th>\n",
       "      <th>Handcap</th>\n",
       "      <th>SMS_received</th>\n",
       "      <th>No-show</th>\n",
       "    </tr>\n",
       "  </thead>\n",
       "  <tbody>\n",
       "  </tbody>\n",
       "</table>\n",
       "</div>"
      ],
      "text/plain": [
       "Empty DataFrame\n",
       "Columns: [PatientId, AppointmentID, Gender, ScheduledDay, AppointmentDay, Age, Neighbourhood, Scholarship, Hipertension, Diabetes, Alcoholism, Handcap, SMS_received, No-show]\n",
       "Index: []"
      ]
     },
     "execution_count": 6,
     "metadata": {},
     "output_type": "execute_result"
    }
   ],
   "source": [
    "#check if AppointmentDay contains timestamp other than 00:00:00\n",
    "df.query('~AppointmentDay.str.contains(\"00:00:00\")')"
   ]
  },
  {
   "cell_type": "code",
   "execution_count": 7,
   "id": "loaded-allowance",
   "metadata": {
    "scrolled": true
   },
   "outputs": [
    {
     "data": {
      "text/html": [
       "<div>\n",
       "<style scoped>\n",
       "    .dataframe tbody tr th:only-of-type {\n",
       "        vertical-align: middle;\n",
       "    }\n",
       "\n",
       "    .dataframe tbody tr th {\n",
       "        vertical-align: top;\n",
       "    }\n",
       "\n",
       "    .dataframe thead th {\n",
       "        text-align: right;\n",
       "    }\n",
       "</style>\n",
       "<table border=\"1\" class=\"dataframe\">\n",
       "  <thead>\n",
       "    <tr style=\"text-align: right;\">\n",
       "      <th></th>\n",
       "      <th>PatientId</th>\n",
       "      <th>AppointmentID</th>\n",
       "      <th>Age</th>\n",
       "      <th>Scholarship</th>\n",
       "      <th>Hipertension</th>\n",
       "      <th>Diabetes</th>\n",
       "      <th>Alcoholism</th>\n",
       "      <th>Handcap</th>\n",
       "      <th>SMS_received</th>\n",
       "    </tr>\n",
       "  </thead>\n",
       "  <tbody>\n",
       "    <tr>\n",
       "      <th>count</th>\n",
       "      <td>1.105270e+05</td>\n",
       "      <td>1.105270e+05</td>\n",
       "      <td>110527.000000</td>\n",
       "      <td>110527.000000</td>\n",
       "      <td>110527.000000</td>\n",
       "      <td>110527.000000</td>\n",
       "      <td>110527.000000</td>\n",
       "      <td>110527.000000</td>\n",
       "      <td>110527.000000</td>\n",
       "    </tr>\n",
       "    <tr>\n",
       "      <th>mean</th>\n",
       "      <td>1.474963e+14</td>\n",
       "      <td>5.675305e+06</td>\n",
       "      <td>37.088874</td>\n",
       "      <td>0.098266</td>\n",
       "      <td>0.197246</td>\n",
       "      <td>0.071865</td>\n",
       "      <td>0.030400</td>\n",
       "      <td>0.022248</td>\n",
       "      <td>0.321026</td>\n",
       "    </tr>\n",
       "    <tr>\n",
       "      <th>std</th>\n",
       "      <td>2.560949e+14</td>\n",
       "      <td>7.129575e+04</td>\n",
       "      <td>23.110205</td>\n",
       "      <td>0.297675</td>\n",
       "      <td>0.397921</td>\n",
       "      <td>0.258265</td>\n",
       "      <td>0.171686</td>\n",
       "      <td>0.161543</td>\n",
       "      <td>0.466873</td>\n",
       "    </tr>\n",
       "    <tr>\n",
       "      <th>min</th>\n",
       "      <td>3.921784e+04</td>\n",
       "      <td>5.030230e+06</td>\n",
       "      <td>-1.000000</td>\n",
       "      <td>0.000000</td>\n",
       "      <td>0.000000</td>\n",
       "      <td>0.000000</td>\n",
       "      <td>0.000000</td>\n",
       "      <td>0.000000</td>\n",
       "      <td>0.000000</td>\n",
       "    </tr>\n",
       "    <tr>\n",
       "      <th>25%</th>\n",
       "      <td>4.172614e+12</td>\n",
       "      <td>5.640286e+06</td>\n",
       "      <td>18.000000</td>\n",
       "      <td>0.000000</td>\n",
       "      <td>0.000000</td>\n",
       "      <td>0.000000</td>\n",
       "      <td>0.000000</td>\n",
       "      <td>0.000000</td>\n",
       "      <td>0.000000</td>\n",
       "    </tr>\n",
       "    <tr>\n",
       "      <th>50%</th>\n",
       "      <td>3.173184e+13</td>\n",
       "      <td>5.680573e+06</td>\n",
       "      <td>37.000000</td>\n",
       "      <td>0.000000</td>\n",
       "      <td>0.000000</td>\n",
       "      <td>0.000000</td>\n",
       "      <td>0.000000</td>\n",
       "      <td>0.000000</td>\n",
       "      <td>0.000000</td>\n",
       "    </tr>\n",
       "    <tr>\n",
       "      <th>75%</th>\n",
       "      <td>9.439172e+13</td>\n",
       "      <td>5.725524e+06</td>\n",
       "      <td>55.000000</td>\n",
       "      <td>0.000000</td>\n",
       "      <td>0.000000</td>\n",
       "      <td>0.000000</td>\n",
       "      <td>0.000000</td>\n",
       "      <td>0.000000</td>\n",
       "      <td>1.000000</td>\n",
       "    </tr>\n",
       "    <tr>\n",
       "      <th>max</th>\n",
       "      <td>9.999816e+14</td>\n",
       "      <td>5.790484e+06</td>\n",
       "      <td>115.000000</td>\n",
       "      <td>1.000000</td>\n",
       "      <td>1.000000</td>\n",
       "      <td>1.000000</td>\n",
       "      <td>1.000000</td>\n",
       "      <td>4.000000</td>\n",
       "      <td>1.000000</td>\n",
       "    </tr>\n",
       "  </tbody>\n",
       "</table>\n",
       "</div>"
      ],
      "text/plain": [
       "          PatientId  AppointmentID            Age    Scholarship  \\\n",
       "count  1.105270e+05   1.105270e+05  110527.000000  110527.000000   \n",
       "mean   1.474963e+14   5.675305e+06      37.088874       0.098266   \n",
       "std    2.560949e+14   7.129575e+04      23.110205       0.297675   \n",
       "min    3.921784e+04   5.030230e+06      -1.000000       0.000000   \n",
       "25%    4.172614e+12   5.640286e+06      18.000000       0.000000   \n",
       "50%    3.173184e+13   5.680573e+06      37.000000       0.000000   \n",
       "75%    9.439172e+13   5.725524e+06      55.000000       0.000000   \n",
       "max    9.999816e+14   5.790484e+06     115.000000       1.000000   \n",
       "\n",
       "        Hipertension       Diabetes     Alcoholism        Handcap  \\\n",
       "count  110527.000000  110527.000000  110527.000000  110527.000000   \n",
       "mean        0.197246       0.071865       0.030400       0.022248   \n",
       "std         0.397921       0.258265       0.171686       0.161543   \n",
       "min         0.000000       0.000000       0.000000       0.000000   \n",
       "25%         0.000000       0.000000       0.000000       0.000000   \n",
       "50%         0.000000       0.000000       0.000000       0.000000   \n",
       "75%         0.000000       0.000000       0.000000       0.000000   \n",
       "max         1.000000       1.000000       1.000000       4.000000   \n",
       "\n",
       "        SMS_received  \n",
       "count  110527.000000  \n",
       "mean        0.321026  \n",
       "std         0.466873  \n",
       "min         0.000000  \n",
       "25%         0.000000  \n",
       "50%         0.000000  \n",
       "75%         1.000000  \n",
       "max         1.000000  "
      ]
     },
     "execution_count": 7,
     "metadata": {},
     "output_type": "execute_result"
    }
   ],
   "source": [
    "# get more information about numeric columns\n",
    "df.describe()"
   ]
  },
  {
   "cell_type": "markdown",
   "id": "880dbf7b",
   "metadata": {},
   "source": [
    "Handcap has 4 as max value. Let's have a closer look there."
   ]
  },
  {
   "cell_type": "code",
   "execution_count": 8,
   "id": "polish-external",
   "metadata": {},
   "outputs": [
    {
     "data": {
      "text/plain": [
       "0    108286\n",
       "1      2042\n",
       "2       183\n",
       "3        13\n",
       "4         3\n",
       "Name: Handcap, dtype: int64"
      ]
     },
     "execution_count": 8,
     "metadata": {},
     "output_type": "execute_result"
    }
   ],
   "source": [
    "df.Handcap.value_counts()"
   ]
  },
  {
   "cell_type": "markdown",
   "id": "corrected-remark",
   "metadata": {},
   "source": [
    "According to the data description on [Kaggle](https://www.kaggle.com/joniarroba/noshowappointments) this should be True or False. The dataset creator marks in this [discussion](https://www.kaggle.com/joniarroba/noshowappointments/discussion/29699) that the number is actually the number of handicaps of a single patient."
   ]
  },
  {
   "cell_type": "code",
   "execution_count": 9,
   "id": "american-nickname",
   "metadata": {},
   "outputs": [
    {
     "data": {
      "text/plain": [
       "Handcap  No-show\n",
       "0        No         86374\n",
       "         Yes        21912\n",
       "1        No          1676\n",
       "         Yes          366\n",
       "2        No           146\n",
       "         Yes           37\n",
       "3        No            10\n",
       "         Yes            3\n",
       "4        No             2\n",
       "         Yes            1\n",
       "Name: Alcoholism, dtype: int64"
      ]
     },
     "execution_count": 9,
     "metadata": {},
     "output_type": "execute_result"
    }
   ],
   "source": [
    "#look at the details\n",
    "df.groupby(['Handcap', 'No-show']).count()['Alcoholism']"
   ]
  },
  {
   "cell_type": "markdown",
   "id": "contemporary-school",
   "metadata": {},
   "source": [
    "The number doesn't have to have a huge impact, so I'm going to ignore this later."
   ]
  },
  {
   "cell_type": "code",
   "execution_count": 10,
   "id": "mature-layer",
   "metadata": {},
   "outputs": [
    {
     "data": {
      "text/plain": [
       "UNIVERSITÁRIO                  152\n",
       "SEGURANÇA DO LAR               145\n",
       "NAZARETH                       135\n",
       "MORADA DE CAMBURI               96\n",
       "PONTAL DE CAMBURI               69\n",
       "ILHA DO BOI                     35\n",
       "ILHA DO FRADE                   10\n",
       "AEROPORTO                        8\n",
       "ILHAS OCEÂNICAS DE TRINDADE      2\n",
       "PARQUE INDUSTRIAL                1\n",
       "Name: Neighbourhood, dtype: int64"
      ]
     },
     "execution_count": 10,
     "metadata": {},
     "output_type": "execute_result"
    }
   ],
   "source": [
    "# How many different values and counts are in the Neighbourhood column\n",
    "df.Neighbourhood.value_counts().tail(10)"
   ]
  },
  {
   "cell_type": "markdown",
   "id": "together-brother",
   "metadata": {},
   "source": [
    "What do we see above:  \n",
    "* Age: Patients are around 37 years old on average. The oldest patient is 115 years old. We'll have to have a closer look at the -1 as minimum age. Could be a mistake or a dataset to drop later.  \n",
    "* Scholarship: Around 10% of the patients are enrolled in Brasilian welfare program [Bolsa Família](https://en.wikipedia.org/wiki/Bolsa_Fam%C3%ADlia).\n",
    "* There are several desease characteristics of the patients recorded (Hipertension ~20%, Diabetes ~7%, Alcoholism ~3%). Handicap data doesn't fit to the data description information as already mentioned above.\n",
    "* SMS_received: About one third of the patients received at least one SMS.\n",
    "* We have more than 80 different neighbourhood values. Some of them only provide few patient appointment records.\n",
    "* No-show is the most relevant column because we want to analyze why patiants didn't show up."
   ]
  },
  {
   "cell_type": "markdown",
   "id": "interior-deputy",
   "metadata": {},
   "source": [
    "### Data Cleaning"
   ]
  },
  {
   "cell_type": "code",
   "execution_count": 11,
   "id": "identical-daisy",
   "metadata": {},
   "outputs": [
    {
     "data": {
      "text/plain": [
       "0"
      ]
     },
     "execution_count": 11,
     "metadata": {},
     "output_type": "execute_result"
    }
   ],
   "source": [
    "#check for duplicates in the dataset\n",
    "sum(df.duplicated())"
   ]
  },
  {
   "cell_type": "markdown",
   "id": "electoral-nation",
   "metadata": {},
   "source": [
    "No duplicates to delete."
   ]
  },
  {
   "cell_type": "code",
   "execution_count": 12,
   "id": "dedicated-shower",
   "metadata": {},
   "outputs": [
    {
     "data": {
      "text/html": [
       "<div>\n",
       "<style scoped>\n",
       "    .dataframe tbody tr th:only-of-type {\n",
       "        vertical-align: middle;\n",
       "    }\n",
       "\n",
       "    .dataframe tbody tr th {\n",
       "        vertical-align: top;\n",
       "    }\n",
       "\n",
       "    .dataframe thead th {\n",
       "        text-align: right;\n",
       "    }\n",
       "</style>\n",
       "<table border=\"1\" class=\"dataframe\">\n",
       "  <thead>\n",
       "    <tr style=\"text-align: right;\">\n",
       "      <th></th>\n",
       "      <th>patient_id</th>\n",
       "      <th>appointmentid</th>\n",
       "      <th>gender</th>\n",
       "      <th>scheduled_day</th>\n",
       "      <th>appointment_day</th>\n",
       "      <th>age</th>\n",
       "      <th>neighbourhood</th>\n",
       "      <th>scholarship</th>\n",
       "      <th>hipertension</th>\n",
       "      <th>diabetes</th>\n",
       "      <th>alcoholism</th>\n",
       "      <th>handcap</th>\n",
       "      <th>sms_received</th>\n",
       "      <th>no_show</th>\n",
       "    </tr>\n",
       "  </thead>\n",
       "  <tbody>\n",
       "    <tr>\n",
       "      <th>0</th>\n",
       "      <td>2.987250e+13</td>\n",
       "      <td>5642903</td>\n",
       "      <td>F</td>\n",
       "      <td>2016-04-29T18:38:08Z</td>\n",
       "      <td>2016-04-29T00:00:00Z</td>\n",
       "      <td>62</td>\n",
       "      <td>JARDIM DA PENHA</td>\n",
       "      <td>0</td>\n",
       "      <td>1</td>\n",
       "      <td>0</td>\n",
       "      <td>0</td>\n",
       "      <td>0</td>\n",
       "      <td>0</td>\n",
       "      <td>No</td>\n",
       "    </tr>\n",
       "    <tr>\n",
       "      <th>1</th>\n",
       "      <td>5.589978e+14</td>\n",
       "      <td>5642503</td>\n",
       "      <td>M</td>\n",
       "      <td>2016-04-29T16:08:27Z</td>\n",
       "      <td>2016-04-29T00:00:00Z</td>\n",
       "      <td>56</td>\n",
       "      <td>JARDIM DA PENHA</td>\n",
       "      <td>0</td>\n",
       "      <td>0</td>\n",
       "      <td>0</td>\n",
       "      <td>0</td>\n",
       "      <td>0</td>\n",
       "      <td>0</td>\n",
       "      <td>No</td>\n",
       "    </tr>\n",
       "    <tr>\n",
       "      <th>2</th>\n",
       "      <td>4.262962e+12</td>\n",
       "      <td>5642549</td>\n",
       "      <td>F</td>\n",
       "      <td>2016-04-29T16:19:04Z</td>\n",
       "      <td>2016-04-29T00:00:00Z</td>\n",
       "      <td>62</td>\n",
       "      <td>MATA DA PRAIA</td>\n",
       "      <td>0</td>\n",
       "      <td>0</td>\n",
       "      <td>0</td>\n",
       "      <td>0</td>\n",
       "      <td>0</td>\n",
       "      <td>0</td>\n",
       "      <td>No</td>\n",
       "    </tr>\n",
       "    <tr>\n",
       "      <th>3</th>\n",
       "      <td>8.679512e+11</td>\n",
       "      <td>5642828</td>\n",
       "      <td>F</td>\n",
       "      <td>2016-04-29T17:29:31Z</td>\n",
       "      <td>2016-04-29T00:00:00Z</td>\n",
       "      <td>8</td>\n",
       "      <td>PONTAL DE CAMBURI</td>\n",
       "      <td>0</td>\n",
       "      <td>0</td>\n",
       "      <td>0</td>\n",
       "      <td>0</td>\n",
       "      <td>0</td>\n",
       "      <td>0</td>\n",
       "      <td>No</td>\n",
       "    </tr>\n",
       "    <tr>\n",
       "      <th>4</th>\n",
       "      <td>8.841186e+12</td>\n",
       "      <td>5642494</td>\n",
       "      <td>F</td>\n",
       "      <td>2016-04-29T16:07:23Z</td>\n",
       "      <td>2016-04-29T00:00:00Z</td>\n",
       "      <td>56</td>\n",
       "      <td>JARDIM DA PENHA</td>\n",
       "      <td>0</td>\n",
       "      <td>1</td>\n",
       "      <td>1</td>\n",
       "      <td>0</td>\n",
       "      <td>0</td>\n",
       "      <td>0</td>\n",
       "      <td>No</td>\n",
       "    </tr>\n",
       "  </tbody>\n",
       "</table>\n",
       "</div>"
      ],
      "text/plain": [
       "     patient_id  appointmentid gender         scheduled_day  \\\n",
       "0  2.987250e+13        5642903      F  2016-04-29T18:38:08Z   \n",
       "1  5.589978e+14        5642503      M  2016-04-29T16:08:27Z   \n",
       "2  4.262962e+12        5642549      F  2016-04-29T16:19:04Z   \n",
       "3  8.679512e+11        5642828      F  2016-04-29T17:29:31Z   \n",
       "4  8.841186e+12        5642494      F  2016-04-29T16:07:23Z   \n",
       "\n",
       "        appointment_day  age      neighbourhood  scholarship  hipertension  \\\n",
       "0  2016-04-29T00:00:00Z   62    JARDIM DA PENHA            0             1   \n",
       "1  2016-04-29T00:00:00Z   56    JARDIM DA PENHA            0             0   \n",
       "2  2016-04-29T00:00:00Z   62      MATA DA PRAIA            0             0   \n",
       "3  2016-04-29T00:00:00Z    8  PONTAL DE CAMBURI            0             0   \n",
       "4  2016-04-29T00:00:00Z   56    JARDIM DA PENHA            0             1   \n",
       "\n",
       "   diabetes  alcoholism  handcap  sms_received no_show  \n",
       "0         0           0        0             0      No  \n",
       "1         0           0        0             0      No  \n",
       "2         0           0        0             0      No  \n",
       "3         0           0        0             0      No  \n",
       "4         1           0        0             0      No  "
      ]
     },
     "execution_count": 12,
     "metadata": {},
     "output_type": "execute_result"
    }
   ],
   "source": [
    "# change column names to lower case for convenience\n",
    "df.rename(columns=lambda x: x.lower(), inplace=True)\n",
    "# rename some columns again\n",
    "df.rename(columns={'patientid': 'patient_id', 'no-show': 'no_show', 'scheduledday': 'scheduled_day', 'appointmentday':'appointment_day'}, inplace=True)\n",
    "df.head()"
   ]
  },
  {
   "cell_type": "markdown",
   "id": "gross-insert",
   "metadata": {},
   "source": [
    "There is no need to have the patientid as float, so I convert it to object"
   ]
  },
  {
   "cell_type": "code",
   "execution_count": 13,
   "id": "joint-cancer",
   "metadata": {},
   "outputs": [],
   "source": [
    "#change patient id to object\n",
    "df['patient_id'] = df['patient_id'].astype(object)"
   ]
  },
  {
   "cell_type": "code",
   "execution_count": 14,
   "id": "hollywood-morris",
   "metadata": {},
   "outputs": [
    {
     "data": {
      "text/plain": [
       "'Unique values in appointmentid:110527, absolute number of appointmentid:110527'"
      ]
     },
     "execution_count": 14,
     "metadata": {},
     "output_type": "execute_result"
    }
   ],
   "source": [
    "'Unique values in appointmentid:{0}, absolute number of appointmentid:{1}'.format(len(df['appointmentid'].unique()), len(df['appointmentid']))"
   ]
  },
  {
   "cell_type": "markdown",
   "id": "reserved-arrival",
   "metadata": {},
   "source": [
    "I don't need the appointmentid for analysis since it's unique. So let's drop it."
   ]
  },
  {
   "cell_type": "code",
   "execution_count": 15,
   "id": "lyric-poetry",
   "metadata": {},
   "outputs": [],
   "source": [
    "df.drop(columns=['appointmentid'], inplace=True)"
   ]
  },
  {
   "cell_type": "markdown",
   "id": "latest-prize",
   "metadata": {},
   "source": [
    "Next I'm going to convert the feature colums to boolean.  \n",
    "Since handcap has a count in it I've to flatten the data first."
   ]
  },
  {
   "cell_type": "code",
   "execution_count": 16,
   "id": "adjustable-civilization",
   "metadata": {},
   "outputs": [],
   "source": [
    "#convert handcap to boolean\n",
    "df['handcap'] = df.handcap > 0"
   ]
  },
  {
   "cell_type": "code",
   "execution_count": 17,
   "id": "static-italian",
   "metadata": {},
   "outputs": [],
   "source": [
    "#convert other feature columns to boolean\n",
    "feature_columns = ['scholarship','hipertension','diabetes','alcoholism','sms_received']\n",
    "for col in feature_columns:\n",
    "    df[col] = df[col].astype('bool')"
   ]
  },
  {
   "cell_type": "markdown",
   "id": "potential-jenny",
   "metadata": {},
   "source": [
    "To work with the appointment dates we'll have to remove the time stamps first"
   ]
  },
  {
   "cell_type": "code",
   "execution_count": 18,
   "id": "contrary-encoding",
   "metadata": {},
   "outputs": [
    {
     "name": "stdout",
     "output_type": "stream",
     "text": [
      "<class 'pandas.core.frame.DataFrame'>\n",
      "RangeIndex: 110527 entries, 0 to 110526\n",
      "Data columns (total 13 columns):\n",
      " #   Column           Non-Null Count   Dtype         \n",
      "---  ------           --------------   -----         \n",
      " 0   patient_id       110527 non-null  object        \n",
      " 1   gender           110527 non-null  object        \n",
      " 2   scheduled_day    110527 non-null  datetime64[ns]\n",
      " 3   appointment_day  110527 non-null  datetime64[ns]\n",
      " 4   age              110527 non-null  int64         \n",
      " 5   neighbourhood    110527 non-null  object        \n",
      " 6   scholarship      110527 non-null  bool          \n",
      " 7   hipertension     110527 non-null  bool          \n",
      " 8   diabetes         110527 non-null  bool          \n",
      " 9   alcoholism       110527 non-null  bool          \n",
      " 10  handcap          110527 non-null  bool          \n",
      " 11  sms_received     110527 non-null  bool          \n",
      " 12  no_show          110527 non-null  object        \n",
      "dtypes: bool(6), datetime64[ns](2), int64(1), object(4)\n",
      "memory usage: 6.5+ MB\n"
     ]
    }
   ],
   "source": [
    "# strip timestamp\n",
    "df['scheduled_day'] = pd.to_datetime(df['scheduled_day']).dt.date\n",
    "df['appointment_day'] = pd.to_datetime(df['appointment_day']).dt.date\n",
    "#change scheduledday and appointmentday to date\n",
    "df['appointment_day'] = pd.to_datetime(df['appointment_day'])\n",
    "df['scheduled_day'] = pd.to_datetime(df['scheduled_day'])\n",
    "df.info()"
   ]
  },
  {
   "cell_type": "markdown",
   "id": "affecting-steel",
   "metadata": {},
   "source": [
    "Last thing to do is to change no_show to boolean also"
   ]
  },
  {
   "cell_type": "code",
   "execution_count": 19,
   "id": "phantom-flood",
   "metadata": {},
   "outputs": [
    {
     "data": {
      "text/plain": [
       "array(['No', 'Yes'], dtype=object)"
      ]
     },
     "execution_count": 19,
     "metadata": {},
     "output_type": "execute_result"
    }
   ],
   "source": [
    "#first check if values are only Yes/No\n",
    "df.no_show.unique()"
   ]
  },
  {
   "cell_type": "code",
   "execution_count": 20,
   "id": "chinese-appendix",
   "metadata": {},
   "outputs": [],
   "source": [
    "# values are fine - convert to bool\n",
    "df['no_show'] = df['no_show'] == 'Yes'"
   ]
  },
  {
   "cell_type": "code",
   "execution_count": 21,
   "id": "asian-audit",
   "metadata": {},
   "outputs": [
    {
     "name": "stdout",
     "output_type": "stream",
     "text": [
      "<class 'pandas.core.frame.DataFrame'>\n",
      "RangeIndex: 110527 entries, 0 to 110526\n",
      "Data columns (total 13 columns):\n",
      " #   Column           Non-Null Count   Dtype         \n",
      "---  ------           --------------   -----         \n",
      " 0   patient_id       110527 non-null  object        \n",
      " 1   gender           110527 non-null  object        \n",
      " 2   scheduled_day    110527 non-null  datetime64[ns]\n",
      " 3   appointment_day  110527 non-null  datetime64[ns]\n",
      " 4   age              110527 non-null  int64         \n",
      " 5   neighbourhood    110527 non-null  object        \n",
      " 6   scholarship      110527 non-null  bool          \n",
      " 7   hipertension     110527 non-null  bool          \n",
      " 8   diabetes         110527 non-null  bool          \n",
      " 9   alcoholism       110527 non-null  bool          \n",
      " 10  handcap          110527 non-null  bool          \n",
      " 11  sms_received     110527 non-null  bool          \n",
      " 12  no_show          110527 non-null  bool          \n",
      "dtypes: bool(7), datetime64[ns](2), int64(1), object(3)\n",
      "memory usage: 5.8+ MB\n"
     ]
    }
   ],
   "source": [
    "df.info()"
   ]
  },
  {
   "cell_type": "code",
   "execution_count": 22,
   "id": "focused-stomach",
   "metadata": {},
   "outputs": [
    {
     "data": {
      "text/html": [
       "<div>\n",
       "<style scoped>\n",
       "    .dataframe tbody tr th:only-of-type {\n",
       "        vertical-align: middle;\n",
       "    }\n",
       "\n",
       "    .dataframe tbody tr th {\n",
       "        vertical-align: top;\n",
       "    }\n",
       "\n",
       "    .dataframe thead th {\n",
       "        text-align: right;\n",
       "    }\n",
       "</style>\n",
       "<table border=\"1\" class=\"dataframe\">\n",
       "  <thead>\n",
       "    <tr style=\"text-align: right;\">\n",
       "      <th></th>\n",
       "      <th>patient_id</th>\n",
       "      <th>gender</th>\n",
       "      <th>scheduled_day</th>\n",
       "      <th>appointment_day</th>\n",
       "      <th>age</th>\n",
       "      <th>neighbourhood</th>\n",
       "      <th>scholarship</th>\n",
       "      <th>hipertension</th>\n",
       "      <th>diabetes</th>\n",
       "      <th>alcoholism</th>\n",
       "      <th>handcap</th>\n",
       "      <th>sms_received</th>\n",
       "      <th>no_show</th>\n",
       "    </tr>\n",
       "  </thead>\n",
       "  <tbody>\n",
       "    <tr>\n",
       "      <th>0</th>\n",
       "      <td>29872499824296.0</td>\n",
       "      <td>F</td>\n",
       "      <td>2016-04-29</td>\n",
       "      <td>2016-04-29</td>\n",
       "      <td>62</td>\n",
       "      <td>JARDIM DA PENHA</td>\n",
       "      <td>False</td>\n",
       "      <td>True</td>\n",
       "      <td>False</td>\n",
       "      <td>False</td>\n",
       "      <td>False</td>\n",
       "      <td>False</td>\n",
       "      <td>False</td>\n",
       "    </tr>\n",
       "  </tbody>\n",
       "</table>\n",
       "</div>"
      ],
      "text/plain": [
       "         patient_id gender scheduled_day appointment_day  age  \\\n",
       "0  29872499824296.0      F    2016-04-29      2016-04-29   62   \n",
       "\n",
       "     neighbourhood  scholarship  hipertension  diabetes  alcoholism  handcap  \\\n",
       "0  JARDIM DA PENHA        False          True     False       False    False   \n",
       "\n",
       "   sms_received  no_show  \n",
       "0         False    False  "
      ]
     },
     "execution_count": 22,
     "metadata": {},
     "output_type": "execute_result"
    }
   ],
   "source": [
    "df.head(1)"
   ]
  },
  {
   "cell_type": "markdown",
   "id": "recent-dining",
   "metadata": {},
   "source": [
    "Now Data Cleaning is finished, let's move on to exploratory data analysis."
   ]
  },
  {
   "cell_type": "markdown",
   "id": "smoking-disease",
   "metadata": {},
   "source": [
    "<a id='eda'></a>\n",
    "## Exploratory Data Analysis\n",
    "\n",
    "\n",
    "### Research Question 1: Does the time span between appointment scheduled day and appointment day affect the patient's absence?"
   ]
  },
  {
   "cell_type": "markdown",
   "id": "experienced-cooper",
   "metadata": {},
   "source": [
    "First I have a look at the time span of the appointments of the dataset."
   ]
  },
  {
   "cell_type": "code",
   "execution_count": 23,
   "id": "mineral-error",
   "metadata": {},
   "outputs": [
    {
     "data": {
      "text/plain": [
       "'The time span of the appointment of the dataset is 40 days 00:00:00'"
      ]
     },
     "execution_count": 23,
     "metadata": {},
     "output_type": "execute_result"
    }
   ],
   "source": [
    "'The time span of the appointment of the dataset is {}'.format((df.appointment_day.max() - df.appointment_day.min()))"
   ]
  },
  {
   "cell_type": "markdown",
   "id": "subtle-exploration",
   "metadata": {},
   "source": [
    "To answer the question it is necessary to have a new computed column waiting_days to get the time a patient had to wait from __Appointment Day__ to __Scheduled Day__ for later analysis"
   ]
  },
  {
   "cell_type": "code",
   "execution_count": 24,
   "id": "aware-culture",
   "metadata": {},
   "outputs": [],
   "source": [
    "# Create a new column waiting_days to get the number of days between the appointment day and the appointment scheduled day\n",
    "df['waiting_days'] = (df['appointment_day'] - df['scheduled_day']).astype('timedelta64[D]')"
   ]
  },
  {
   "cell_type": "code",
   "execution_count": 25,
   "id": "creative-investor",
   "metadata": {},
   "outputs": [
    {
     "data": {
      "text/plain": [
       "count    110527.000000\n",
       "mean         10.183702\n",
       "std          15.254996\n",
       "min          -6.000000\n",
       "25%           0.000000\n",
       "50%           4.000000\n",
       "75%          15.000000\n",
       "max         179.000000\n",
       "Name: waiting_days, dtype: float64"
      ]
     },
     "execution_count": 25,
     "metadata": {},
     "output_type": "execute_result"
    }
   ],
   "source": [
    "# look at the result\n",
    "df.waiting_days.describe()"
   ]
  },
  {
   "cell_type": "markdown",
   "id": "corrected-universal",
   "metadata": {},
   "source": [
    "We see a data inconsistency we missed when clearing the data. The result shows entries below 0. This means the appointment is before the scheduled date. So were going to deal with it here."
   ]
  },
  {
   "cell_type": "code",
   "execution_count": 26,
   "id": "colored-fabric",
   "metadata": {
    "scrolled": true
   },
   "outputs": [
    {
     "data": {
      "text/html": [
       "<div>\n",
       "<style scoped>\n",
       "    .dataframe tbody tr th:only-of-type {\n",
       "        vertical-align: middle;\n",
       "    }\n",
       "\n",
       "    .dataframe tbody tr th {\n",
       "        vertical-align: top;\n",
       "    }\n",
       "\n",
       "    .dataframe thead th {\n",
       "        text-align: right;\n",
       "    }\n",
       "</style>\n",
       "<table border=\"1\" class=\"dataframe\">\n",
       "  <thead>\n",
       "    <tr style=\"text-align: right;\">\n",
       "      <th></th>\n",
       "      <th>patient_id</th>\n",
       "      <th>gender</th>\n",
       "      <th>scheduled_day</th>\n",
       "      <th>appointment_day</th>\n",
       "      <th>age</th>\n",
       "      <th>neighbourhood</th>\n",
       "      <th>scholarship</th>\n",
       "      <th>hipertension</th>\n",
       "      <th>diabetes</th>\n",
       "      <th>alcoholism</th>\n",
       "      <th>handcap</th>\n",
       "      <th>sms_received</th>\n",
       "      <th>no_show</th>\n",
       "      <th>waiting_days</th>\n",
       "    </tr>\n",
       "  </thead>\n",
       "  <tbody>\n",
       "    <tr>\n",
       "      <th>0</th>\n",
       "      <td>29872499824296.0</td>\n",
       "      <td>F</td>\n",
       "      <td>2016-04-29</td>\n",
       "      <td>2016-04-29</td>\n",
       "      <td>62</td>\n",
       "      <td>JARDIM DA PENHA</td>\n",
       "      <td>False</td>\n",
       "      <td>True</td>\n",
       "      <td>False</td>\n",
       "      <td>False</td>\n",
       "      <td>False</td>\n",
       "      <td>False</td>\n",
       "      <td>False</td>\n",
       "      <td>0.0</td>\n",
       "    </tr>\n",
       "    <tr>\n",
       "      <th>1</th>\n",
       "      <td>558997776694438.0</td>\n",
       "      <td>M</td>\n",
       "      <td>2016-04-29</td>\n",
       "      <td>2016-04-29</td>\n",
       "      <td>56</td>\n",
       "      <td>JARDIM DA PENHA</td>\n",
       "      <td>False</td>\n",
       "      <td>False</td>\n",
       "      <td>False</td>\n",
       "      <td>False</td>\n",
       "      <td>False</td>\n",
       "      <td>False</td>\n",
       "      <td>False</td>\n",
       "      <td>0.0</td>\n",
       "    </tr>\n",
       "    <tr>\n",
       "      <th>2</th>\n",
       "      <td>4262962299951.0</td>\n",
       "      <td>F</td>\n",
       "      <td>2016-04-29</td>\n",
       "      <td>2016-04-29</td>\n",
       "      <td>62</td>\n",
       "      <td>MATA DA PRAIA</td>\n",
       "      <td>False</td>\n",
       "      <td>False</td>\n",
       "      <td>False</td>\n",
       "      <td>False</td>\n",
       "      <td>False</td>\n",
       "      <td>False</td>\n",
       "      <td>False</td>\n",
       "      <td>0.0</td>\n",
       "    </tr>\n",
       "    <tr>\n",
       "      <th>3</th>\n",
       "      <td>867951213174.0</td>\n",
       "      <td>F</td>\n",
       "      <td>2016-04-29</td>\n",
       "      <td>2016-04-29</td>\n",
       "      <td>8</td>\n",
       "      <td>PONTAL DE CAMBURI</td>\n",
       "      <td>False</td>\n",
       "      <td>False</td>\n",
       "      <td>False</td>\n",
       "      <td>False</td>\n",
       "      <td>False</td>\n",
       "      <td>False</td>\n",
       "      <td>False</td>\n",
       "      <td>0.0</td>\n",
       "    </tr>\n",
       "    <tr>\n",
       "      <th>4</th>\n",
       "      <td>8841186448183.0</td>\n",
       "      <td>F</td>\n",
       "      <td>2016-04-29</td>\n",
       "      <td>2016-04-29</td>\n",
       "      <td>56</td>\n",
       "      <td>JARDIM DA PENHA</td>\n",
       "      <td>False</td>\n",
       "      <td>True</td>\n",
       "      <td>True</td>\n",
       "      <td>False</td>\n",
       "      <td>False</td>\n",
       "      <td>False</td>\n",
       "      <td>False</td>\n",
       "      <td>0.0</td>\n",
       "    </tr>\n",
       "    <tr>\n",
       "      <th>...</th>\n",
       "      <td>...</td>\n",
       "      <td>...</td>\n",
       "      <td>...</td>\n",
       "      <td>...</td>\n",
       "      <td>...</td>\n",
       "      <td>...</td>\n",
       "      <td>...</td>\n",
       "      <td>...</td>\n",
       "      <td>...</td>\n",
       "      <td>...</td>\n",
       "      <td>...</td>\n",
       "      <td>...</td>\n",
       "      <td>...</td>\n",
       "      <td>...</td>\n",
       "    </tr>\n",
       "    <tr>\n",
       "      <th>110511</th>\n",
       "      <td>823599626588.0</td>\n",
       "      <td>F</td>\n",
       "      <td>2016-06-08</td>\n",
       "      <td>2016-06-08</td>\n",
       "      <td>14</td>\n",
       "      <td>MARIA ORTIZ</td>\n",
       "      <td>False</td>\n",
       "      <td>False</td>\n",
       "      <td>False</td>\n",
       "      <td>False</td>\n",
       "      <td>False</td>\n",
       "      <td>False</td>\n",
       "      <td>False</td>\n",
       "      <td>0.0</td>\n",
       "    </tr>\n",
       "    <tr>\n",
       "      <th>110512</th>\n",
       "      <td>98762456447375.0</td>\n",
       "      <td>F</td>\n",
       "      <td>2016-06-08</td>\n",
       "      <td>2016-06-08</td>\n",
       "      <td>41</td>\n",
       "      <td>MARIA ORTIZ</td>\n",
       "      <td>False</td>\n",
       "      <td>False</td>\n",
       "      <td>False</td>\n",
       "      <td>False</td>\n",
       "      <td>False</td>\n",
       "      <td>False</td>\n",
       "      <td>False</td>\n",
       "      <td>0.0</td>\n",
       "    </tr>\n",
       "    <tr>\n",
       "      <th>110513</th>\n",
       "      <td>86747784995281.0</td>\n",
       "      <td>M</td>\n",
       "      <td>2016-06-08</td>\n",
       "      <td>2016-06-08</td>\n",
       "      <td>2</td>\n",
       "      <td>ANTÔNIO HONÓRIO</td>\n",
       "      <td>False</td>\n",
       "      <td>False</td>\n",
       "      <td>False</td>\n",
       "      <td>False</td>\n",
       "      <td>False</td>\n",
       "      <td>False</td>\n",
       "      <td>False</td>\n",
       "      <td>0.0</td>\n",
       "    </tr>\n",
       "    <tr>\n",
       "      <th>110514</th>\n",
       "      <td>2695685177138.0</td>\n",
       "      <td>F</td>\n",
       "      <td>2016-06-08</td>\n",
       "      <td>2016-06-08</td>\n",
       "      <td>58</td>\n",
       "      <td>MARIA ORTIZ</td>\n",
       "      <td>False</td>\n",
       "      <td>False</td>\n",
       "      <td>False</td>\n",
       "      <td>False</td>\n",
       "      <td>False</td>\n",
       "      <td>False</td>\n",
       "      <td>False</td>\n",
       "      <td>0.0</td>\n",
       "    </tr>\n",
       "    <tr>\n",
       "      <th>110517</th>\n",
       "      <td>5574942418928.0</td>\n",
       "      <td>F</td>\n",
       "      <td>2016-06-07</td>\n",
       "      <td>2016-06-07</td>\n",
       "      <td>19</td>\n",
       "      <td>MARIA ORTIZ</td>\n",
       "      <td>False</td>\n",
       "      <td>False</td>\n",
       "      <td>False</td>\n",
       "      <td>False</td>\n",
       "      <td>False</td>\n",
       "      <td>False</td>\n",
       "      <td>False</td>\n",
       "      <td>0.0</td>\n",
       "    </tr>\n",
       "  </tbody>\n",
       "</table>\n",
       "<p>38563 rows × 14 columns</p>\n",
       "</div>"
      ],
      "text/plain": [
       "               patient_id gender scheduled_day appointment_day  age  \\\n",
       "0        29872499824296.0      F    2016-04-29      2016-04-29   62   \n",
       "1       558997776694438.0      M    2016-04-29      2016-04-29   56   \n",
       "2         4262962299951.0      F    2016-04-29      2016-04-29   62   \n",
       "3          867951213174.0      F    2016-04-29      2016-04-29    8   \n",
       "4         8841186448183.0      F    2016-04-29      2016-04-29   56   \n",
       "...                   ...    ...           ...             ...  ...   \n",
       "110511     823599626588.0      F    2016-06-08      2016-06-08   14   \n",
       "110512   98762456447375.0      F    2016-06-08      2016-06-08   41   \n",
       "110513   86747784995281.0      M    2016-06-08      2016-06-08    2   \n",
       "110514    2695685177138.0      F    2016-06-08      2016-06-08   58   \n",
       "110517    5574942418928.0      F    2016-06-07      2016-06-07   19   \n",
       "\n",
       "            neighbourhood  scholarship  hipertension  diabetes  alcoholism  \\\n",
       "0         JARDIM DA PENHA        False          True     False       False   \n",
       "1         JARDIM DA PENHA        False         False     False       False   \n",
       "2           MATA DA PRAIA        False         False     False       False   \n",
       "3       PONTAL DE CAMBURI        False         False     False       False   \n",
       "4         JARDIM DA PENHA        False          True      True       False   \n",
       "...                   ...          ...           ...       ...         ...   \n",
       "110511        MARIA ORTIZ        False         False     False       False   \n",
       "110512        MARIA ORTIZ        False         False     False       False   \n",
       "110513    ANTÔNIO HONÓRIO        False         False     False       False   \n",
       "110514        MARIA ORTIZ        False         False     False       False   \n",
       "110517        MARIA ORTIZ        False         False     False       False   \n",
       "\n",
       "        handcap  sms_received  no_show  waiting_days  \n",
       "0         False         False    False           0.0  \n",
       "1         False         False    False           0.0  \n",
       "2         False         False    False           0.0  \n",
       "3         False         False    False           0.0  \n",
       "4         False         False    False           0.0  \n",
       "...         ...           ...      ...           ...  \n",
       "110511    False         False    False           0.0  \n",
       "110512    False         False    False           0.0  \n",
       "110513    False         False    False           0.0  \n",
       "110514    False         False    False           0.0  \n",
       "110517    False         False    False           0.0  \n",
       "\n",
       "[38563 rows x 14 columns]"
      ]
     },
     "execution_count": 26,
     "metadata": {},
     "output_type": "execute_result"
    }
   ],
   "source": [
    "# look at the entries below 0\n",
    "df.query('waiting_days == 0')"
   ]
  },
  {
   "cell_type": "code",
   "execution_count": 27,
   "id": "irish-semiconductor",
   "metadata": {
    "scrolled": true
   },
   "outputs": [
    {
     "data": {
      "text/plain": [
       "False    88208\n",
       "True     22319\n",
       "Name: no_show, dtype: int64"
      ]
     },
     "execution_count": 27,
     "metadata": {},
     "output_type": "execute_result"
    }
   ],
   "source": [
    "df.no_show.value_counts()"
   ]
  },
  {
   "cell_type": "markdown",
   "id": "ignored-freight",
   "metadata": {},
   "source": [
    "These are all no_show entries but only six of more than 20000, so I'm going to drop these."
   ]
  },
  {
   "cell_type": "code",
   "execution_count": 28,
   "id": "potential-nerve",
   "metadata": {
    "scrolled": true
   },
   "outputs": [
    {
     "data": {
      "text/html": [
       "<div>\n",
       "<style scoped>\n",
       "    .dataframe tbody tr th:only-of-type {\n",
       "        vertical-align: middle;\n",
       "    }\n",
       "\n",
       "    .dataframe tbody tr th {\n",
       "        vertical-align: top;\n",
       "    }\n",
       "\n",
       "    .dataframe thead th {\n",
       "        text-align: right;\n",
       "    }\n",
       "</style>\n",
       "<table border=\"1\" class=\"dataframe\">\n",
       "  <thead>\n",
       "    <tr style=\"text-align: right;\">\n",
       "      <th></th>\n",
       "      <th>patient_id</th>\n",
       "      <th>gender</th>\n",
       "      <th>scheduled_day</th>\n",
       "      <th>appointment_day</th>\n",
       "      <th>age</th>\n",
       "      <th>neighbourhood</th>\n",
       "      <th>scholarship</th>\n",
       "      <th>hipertension</th>\n",
       "      <th>diabetes</th>\n",
       "      <th>alcoholism</th>\n",
       "      <th>handcap</th>\n",
       "      <th>sms_received</th>\n",
       "      <th>no_show</th>\n",
       "      <th>waiting_days</th>\n",
       "    </tr>\n",
       "  </thead>\n",
       "  <tbody>\n",
       "  </tbody>\n",
       "</table>\n",
       "</div>"
      ],
      "text/plain": [
       "Empty DataFrame\n",
       "Columns: [patient_id, gender, scheduled_day, appointment_day, age, neighbourhood, scholarship, hipertension, diabetes, alcoholism, handcap, sms_received, no_show, waiting_days]\n",
       "Index: []"
      ]
     },
     "execution_count": 28,
     "metadata": {},
     "output_type": "execute_result"
    }
   ],
   "source": [
    "# drop entries\n",
    "df = df.query('waiting_days >= 0')\n",
    "# check\n",
    "df.query('waiting_days < 0')"
   ]
  },
  {
   "cell_type": "markdown",
   "id": "streaming-metropolitan",
   "metadata": {},
   "source": [
    "Having the waiting_days we can check out if there is a difference between people who showed up and people who didn't."
   ]
  },
  {
   "cell_type": "code",
   "execution_count": 29,
   "id": "universal-yeast",
   "metadata": {},
   "outputs": [],
   "source": [
    "#create masks for present and absent patients\n",
    "present = df['no_show'] == False\n",
    "absent = df['no_show'] == True"
   ]
  },
  {
   "cell_type": "markdown",
   "id": "eight-renewal",
   "metadata": {},
   "source": [
    "First we have a look at the waiting_days, telling the time span between appointment scheduled day and appointment day"
   ]
  },
  {
   "cell_type": "code",
   "execution_count": 30,
   "id": "immune-keeping",
   "metadata": {},
   "outputs": [
    {
     "data": {
      "text/plain": [
       "count    88208.000000\n",
       "mean         8.754659\n",
       "std         14.550398\n",
       "min          0.000000\n",
       "25%          0.000000\n",
       "50%          2.000000\n",
       "75%         12.000000\n",
       "max        179.000000\n",
       "Name: waiting_days, dtype: float64"
      ]
     },
     "execution_count": 30,
     "metadata": {},
     "output_type": "execute_result"
    }
   ],
   "source": [
    "df[present].waiting_days.describe()"
   ]
  },
  {
   "cell_type": "code",
   "execution_count": 31,
   "id": "located-fifth",
   "metadata": {},
   "outputs": [
    {
     "data": {
      "text/plain": [
       "count    22314.000000\n",
       "mean        15.835484\n",
       "std         16.605600\n",
       "min          0.000000\n",
       "25%          4.000000\n",
       "50%         11.000000\n",
       "75%         23.000000\n",
       "max        179.000000\n",
       "Name: waiting_days, dtype: float64"
      ]
     },
     "execution_count": 31,
     "metadata": {},
     "output_type": "execute_result"
    }
   ],
   "source": [
    "df[absent].waiting_days.describe()"
   ]
  },
  {
   "cell_type": "markdown",
   "id": "magnetic-seller",
   "metadata": {},
   "source": [
    "We can see a correlation between waiting days and "
   ]
  },
  {
   "cell_type": "code",
   "execution_count": 32,
   "id": "deluxe-sullivan",
   "metadata": {},
   "outputs": [
    {
     "data": {
      "image/png": "[encoded data removed]",
      "text/plain": [
       "<Figure size 720x576 with 2 Axes>"
      ]
     },
     "metadata": {
      "needs_background": "light"
     },
     "output_type": "display_data"
    }
   ],
   "source": [
    "fig, ax = plt.subplots(1, 2, tight_layout=True)\n",
    "n_bins = 50\n",
    "fig.set_figheight(8)\n",
    "fig.set_figwidth(10)\n",
    "fig.suptitle('Show/No-show appointments dependent on days between appointment schedule and appointment', fontsize=16)\n",
    "# We can set the number of bins with the `bins` kwarg\n",
    "ax[0].hist(df[present].waiting_days, bins=n_bins)\n",
    "ax[1].hist(df[absent].waiting_days, bins=n_bins)\n",
    "ax[0].set_title(\"patient showed up\")\n",
    "ax[1].set_title(\"patient didn't show up\")\n",
    "ax[0].set_ylabel('count')\n",
    "ax[0].set_xlabel('days[d]')\n",
    "ax[1].set_ylabel('count')\n",
    "ax[1].set_xlabel('days[d]');"
   ]
  },
  {
   "cell_type": "markdown",
   "id": "starting-notification",
   "metadata": {},
   "source": [
    "Both histograms are skewed to the right, but the one were patients showed up is even more skewed to the right.  \n",
    "To make this correlation clearer I'm going to visualize it as box diagram. I'm going to ignore outliers to have a clearer view on the overall picture."
   ]
  },
  {
   "cell_type": "code",
   "execution_count": 33,
   "id": "italian-tsunami",
   "metadata": {},
   "outputs": [
    {
     "data": {
      "image/png": "[encoded data removed]",
      "text/plain": [
       "<Figure size 864x432 with 1 Axes>"
      ]
     },
     "metadata": {
      "needs_background": "light"
     },
     "output_type": "display_data"
    }
   ],
   "source": [
    "# show box diagram without outliers\n",
    "\n",
    "fig, ax = plt.subplots()\n",
    "fig.set_figheight(6)\n",
    "fig.set_figwidth(12)\n",
    "fig.suptitle('Show/No-show appointments dependent on\\ndays between appointment schedule and appointment', fontsize=12)\n",
    "\n",
    "ax.boxplot([df[absent].waiting_days, df[present].waiting_days], 0, '', 0)\n",
    "ax.set_yticks([1, 2])\n",
    "ax.set_yticklabels(['no-show','show'], fontsize=12)\n",
    "ax.set_xlabel('days[d]')\n",
    "\n",
    "plt.show()"
   ]
  },
  {
   "cell_type": "markdown",
   "id": "bored-lighter",
   "metadata": {},
   "source": [
    "\n",
    "### Research Question 2: Does the week day of the appointment affect a patient's absence?"
   ]
  },
  {
   "cell_type": "markdown",
   "id": "informal-alabama",
   "metadata": {},
   "source": [
    "To answer this question we already did some It would be good to have a new computed column waiting_days to get the time a patient had to wait from Appointment Day to Scheduled Day for later analysis"
   ]
  },
  {
   "cell_type": "code",
   "execution_count": 34,
   "id": "intermediate-channels",
   "metadata": {
    "scrolled": true
   },
   "outputs": [
    {
     "data": {
      "text/plain": [
       "count    110522.000000\n",
       "mean         10.184253\n",
       "std          15.255115\n",
       "min           0.000000\n",
       "25%           0.000000\n",
       "50%           4.000000\n",
       "75%          15.000000\n",
       "max         179.000000\n",
       "Name: waiting_days, dtype: float64"
      ]
     },
     "execution_count": 34,
     "metadata": {},
     "output_type": "execute_result"
    }
   ],
   "source": [
    "df.waiting_days.describe()"
   ]
  },
  {
   "cell_type": "code",
   "execution_count": 35,
   "id": "virgin-cholesterol",
   "metadata": {},
   "outputs": [],
   "source": [
    "df['weekday_appmnt'] = df['appointment_day'].dt.dayofweek\n",
    "df['weekday_scheduled'] = df['scheduled_day'].dt.dayofweek"
   ]
  },
  {
   "cell_type": "code",
   "execution_count": 36,
   "id": "proved-family",
   "metadata": {},
   "outputs": [
    {
     "name": "stdout",
     "output_type": "stream",
     "text": [
      "No Show-up on weekdays:\n",
      "0    4689\n",
      "1    5150\n",
      "2    5092\n",
      "3    3337\n",
      "4    4037\n",
      "5       9\n",
      "Name: weekday_appmnt, dtype: int64\n",
      "Show-up on weekdays:\n",
      "0    18025\n",
      "1    20488\n",
      "2    20774\n",
      "3    13909\n",
      "4    14982\n",
      "5       30\n",
      "Name: weekday_appmnt, dtype: int64\n",
      "1.0000000000000002\n",
      "1.0\n"
     ]
    }
   ],
   "source": [
    "# get weekdays for present and absent days\n",
    "weekday_present_counts = df[present].weekday_appmnt.value_counts().sort_index()\n",
    "weekday_present_absolute = df[present].weekday_appmnt.count()\n",
    "weekday_absent_counts = df[absent].weekday_appmnt.value_counts().sort_index()\n",
    "weekday_absent_absolute = df[absent].weekday_appmnt.count()\n",
    "\n",
    "# check values\n",
    "print('No Show-up on weekdays:\\n{}'.format(weekday_absent_counts))\n",
    "print('Show-up on weekdays:\\n{}'.format(weekday_present_counts))\n",
    "\n",
    "# get proportions\n",
    "prop_weekday_present = weekday_present_counts/weekday_present_absolute\n",
    "prop_weekday_absent = weekday_absent_counts/weekday_absent_absolute\n",
    "\n",
    "# check result - should be 1.0 or very close to it\n",
    "print(sum(prop_weekday_present))\n",
    "print(sum(prop_weekday_absent))"
   ]
  },
  {
   "cell_type": "code",
   "execution_count": 37,
   "id": "interior-kruger",
   "metadata": {},
   "outputs": [],
   "source": [
    "def drawGroupedBarChart(vals1, vals2, label_vals1='data1', label_vals2='data2', chart_title='', name_xlabel='', name_ylabel='',  x_tick_labels=[], bar_width=0.35, color1='b', color2='r', alpha1=0.7, alpha2=0.7):\n",
    "\n",
    "    ind = np.arange(len(vals1))  # the x locations for the groups\n",
    "    vals_present = list(vals1.values)\n",
    "    vals_absent = list(vals2.values)\n",
    "\n",
    "    # plot bars\n",
    "    fig, ax = plt.subplots()\n",
    "    fig.set_figheight(10)\n",
    "    fig.set_figwidth(10)\n",
    "\n",
    "    bars_weekdays_present  = ax.bar(ind, vals_present, bar_width, color=color1, alpha=alpha1, label=label_vals1)\n",
    "    bars_weekdays_absent = ax.bar(ind + bar_width, vals_absent, bar_width, color=color2, alpha=alpha2, label=label_vals2)\n",
    "\n",
    "    # title and labels\n",
    "    ax.set_ylabel(name_ylabel)\n",
    "    ax.set_xlabel(name_xlabel)\n",
    "    ax.set_title(chart_title)\n",
    "    locations = ind + bar_width / 2  # xtick locations \n",
    "    ax.set_xticks(locations)\n",
    "    ax.set_xticklabels(x_tick_labels)\n",
    "\n",
    "    # legend\n",
    "    ax.legend()\n",
    "    fig.show"
   ]
  },
  {
   "cell_type": "code",
   "execution_count": 38,
   "id": "purple-caution",
   "metadata": {},
   "outputs": [
    {
     "data": {
      "image/png": "[encoded data removed]",
      "text/plain": [
       "<Figure size 720x720 with 1 Axes>"
      ]
     },
     "metadata": {
      "needs_background": "light"
     },
     "output_type": "display_data"
    }
   ],
   "source": [
    " #weekdays dict w/o Sunday\n",
    "week_days = [\n",
    "    'Monday',\n",
    "    'Tuesday',\n",
    "    'Wednesday',\n",
    "    'Thursday',\n",
    "    'Friday',\n",
    "    'Saturday'\n",
    "]\n",
    "\n",
    "title = 'Show/No-Show Appointments Dependent on Week Days'\n",
    "drawGroupedBarChart(prop_weekday_present, prop_weekday_absent, chart_title=title, name_xlabel='Weekday', name_ylabel='Proportion', label_vals1='show', label_vals2='no-show', x_tick_labels=week_days)"
   ]
  },
  {
   "cell_type": "markdown",
   "id": "breeding-journey",
   "metadata": {},
   "source": [
    "For both groups (show and no-show) we see a higher number of appointments at the beginning of the week (Monday to Wednesday).\n",
    "Ignoring Saturdays with few appointments we see that patients tend to not show up at the beginning or end of the week.\n",
    "\n",
    "We saw in the histogram that many appointment were scheduled the same day - knowing that waiting time affects patients' presence and many appointments are on the same day the appointment was scheduled, I'm now going to ignore the same day appointments to look at the impact."
   ]
  },
  {
   "cell_type": "code",
   "execution_count": 39,
   "id": "architectural-cardiff",
   "metadata": {},
   "outputs": [],
   "source": [
    "# sort out same day appointments\n",
    "# get weekdays for present and absent days\n",
    "present_not_same_day = (df['no_show'] == False) & (df['waiting_days'] > 0.0)\n",
    "absent_not_same_day = (df['no_show'] == True) & (df['waiting_days'] > 0.0)\n",
    "\n",
    "wd_present_not_same_day_counts = df[present_not_same_day].weekday_appmnt.value_counts().sort_index()\n",
    "wd_present_not_same_day_absolute = df[present_not_same_day].weekday_appmnt.count()\n",
    "wd_absent_not_same_day_counts = df[absent_not_same_day].weekday_appmnt.value_counts().sort_index()\n",
    "wd_absent_not_same_day_absolute = df[absent_not_same_day].weekday_appmnt.count()\n",
    "\n",
    "# get proportions\n",
    "prop_wd_present_not_same_day = wd_present_not_same_day_counts/wd_present_not_same_day_absolute\n",
    "prop_wd_absent_not_same_day = wd_absent_not_same_day_counts/wd_absent_not_same_day_absolute"
   ]
  },
  {
   "cell_type": "code",
   "execution_count": 40,
   "id": "alternate-cuisine",
   "metadata": {},
   "outputs": [
    {
     "data": {
      "image/png": "[encoded data removed]",
      "text/plain": [
       "<Figure size 720x720 with 1 Axes>"
      ]
     },
     "metadata": {
      "needs_background": "light"
     },
     "output_type": "display_data"
    }
   ],
   "source": [
    "title = 'Show/No-Show Appointments Dependent on Week Days (w/o same day Schedule/Appointment)'\n",
    "drawGroupedBarChart(prop_wd_present_not_same_day, prop_wd_absent_not_same_day, chart_title=title, name_xlabel='Weekday', name_ylabel='Proportion', label_vals1='show', label_vals2='no-show', x_tick_labels=week_days)"
   ]
  },
  {
   "cell_type": "markdown",
   "id": "altered-kingdom",
   "metadata": {},
   "source": [
    "Again ignoring Saturdays we can see an increasing difference between no-shows and shows in the beginning of the week while decreasing on Friday."
   ]
  },
  {
   "cell_type": "markdown",
   "id": "female-contest",
   "metadata": {},
   "source": [
    "<a id='conclusions'></a>\n",
    "## Conclusions\n",
    "\n",
    "### Results:\n",
    "I was looking at the dataset addressing the following to questions.\n",
    "\n",
    "* Does the time span between appointment scheduled day and appointment day affect the patient's absence?\n",
    "* Does the week day of the appointment affect a patient's absence?\n",
    "\n",
    "In both cases there is a correlation between the dependent variable no_show and the independent variables.\n",
    "\n",
    "1. We see that appointments where patients didn't show up have a relation to the number of waiting days in between the day where the appointment was scheduled and the day of the appointment.\n",
    "2. Weekdays: There is a proportinal higher rate of no-shows at the beginning or end of the week.\n",
    "\n",
    "### Limitations:\n",
    "1. There may be other correlations I didn't check on like relation between gender and show/no-shows that also have affect the weekdays or waiting time. Therefore results are preliminary and maybe different when looking on other factors, too.\n",
    "2. We do not know how the data was raised and therefore can't draw conclusions.\n",
    "3. The dataset's covers only 40 days of appointments which is quite a small sample. So time based information like __season of the year__ could also affect the findings."
   ]
  },
  {
   "cell_type": "code",
   "execution_count": 41,
   "id": "forced-animation",
   "metadata": {},
   "outputs": [
    {
     "data": {
      "text/plain": [
       "1"
      ]
     },
     "execution_count": 41,
     "metadata": {},
     "output_type": "execute_result"
    }
   ],
   "source": [
    "from subprocess import call\n",
    "call(['python', '-m', 'nbconvert', 'Investigate_a_Dataset.ipynb'])"
   ]
  }
 ],
 "metadata": {
  "kernelspec": {
   "display_name": "Python [conda env:Data_Analyst] *",
   "language": "python",
   "name": "conda-env-Data_Analyst-py"
  },
  "language_info": {
   "codemirror_mode": {
    "name": "ipython",
    "version": 3
   },
   "file_extension": ".py",
   "mimetype": "text/x-python",
   "name": "python",
   "nbconvert_exporter": "python",
   "pygments_lexer": "ipython3",
   "version": "3.8.8"
  }
 },
 "nbformat": 4,
 "nbformat_minor": 5
}
