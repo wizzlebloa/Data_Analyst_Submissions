{
 "cells": [
  {
   "cell_type": "markdown",
   "id": "41384257",
   "metadata": {},
   "source": [
    "## Project: Get Insights on Twitter Data \"WeRateDogs\""
   ]
  },
  {
   "cell_type": "markdown",
   "id": "542dc6e1",
   "metadata": {},
   "source": [
    "### Introduction - About the Data\n",
    "\n",
    "In this report I'm going to share some insights on the dataset `Twitter Data WeRateDogs`. This dataset consists of about 2000 tweets posted on Twitter between end of 2015 and mid of 2017. The Twitter channel [WeRateDogs](https://twitter.com/dog_rates?lang=en) provides dog pictures with funny comments and ratings on a regular basis.\n",
    "For creating this insights I was merging and analyzing data from three different sources:\n",
    "* a Twitter archive of tweets provides as csv.file from [Udacity](https://www.udacity.com/)\n",
    "* Twitter tweet data gathered via [Twitter's API](https://developer.twitter.com/en/docs)\n",
    "* a dataset of image prediction data provided by [Udacity](https://www.udacity.com/)  \n",
    "  \n",
    "For the insights presented within this report I was using the following data:"
   ]
  },
  {
   "cell_type": "markdown",
   "id": "a6a799c3",
   "metadata": {},
   "source": [
    "|field name|description|example              |\n",
    "|:---|:---|:---|\n",
    "|`rating_numerator` | X as the X/10 rating normally used by WeRateDogs (often > 10) as float for the tweet | 14.0 |\n",
    "|`retweet_count` | How many retweets the tweet got | 7000 |\n",
    "|`favorite_count` | How often the tweet was marked as favorite | 7526 |\n",
    "|`p1` | is the algorithm's `#1` prediction for the image in the tweet | golden retriever |\n",
    "|`p1_dog` | is whether or not the `#1` prediction is a breed of dog | `TRUE` |\n",
    "|`p2`|  is the algorithm's second most likely prediction | Labrador retriever |\n",
    "|`p2_dog` | is whether or not the `#2` prediction is a breed of dog | `TRUE` |\n",
    "|`p3`|  is the algorithm's third most likely prediction | Samoyed |\n",
    "|`p3_dog` | is whether or not the `#3` prediction is a breed of dog | `TRUE` |"
   ]
  },
  {
   "cell_type": "markdown",
   "id": "75161e42",
   "metadata": {},
   "source": [
    "\n",
    "Besides the original tweet data from Twitter the analyzed dataset also includes image prediction data of a machine learning algorithm. Based on this data I was focusing on the following questions:\n",
    "  \n",
    "* Which dog breeds (recognized by the machine learning algorithm) are rated highest by WeRateDogs?\n",
    "* Which dog breeds have highest favorite counts or retweet rates?\n",
    "* Is there a correlation between rating and favorite count?"
   ]
  },
  {
   "cell_type": "markdown",
   "id": "55e9b1c5",
   "metadata": {},
   "source": [
    "## Dataset insights"
   ]
  },
  {
   "cell_type": "markdown",
   "id": "03f1b0bf",
   "metadata": {},
   "source": [
    "First I wanted to know how many and which dog breeds were recognized by the algorithm. Therefore I looked at each image prediction to find out if p1-p3 predicted a dog as image content. Therefore  I added a column `most_probable_breed` telling which breed was predicted most probable.  \n",
    "In around __85%__ of all tweets the image recognition algorithm predicted at least one dog breed. In total  __113__ different dog breeds were predicted as `most_probable_breed`.  \n",
    "I asked myself which breeds were most prominent within the dataset and wanted to know, which are the top 10 predictions there.  \n",
    "\n",
    "Here's the result (in absolute numbers):"
   ]
  },
  {
   "cell_type": "markdown",
   "id": "c8e34ba5",
   "metadata": {},
   "source": [
    "<div style=\"width: 250px; height: 280px;\">\n",
    "    <img src='./plots/Top_10_Dogs_in_dataset.png' width=\"200%\" height=\"200%\">\n",
    "</div>"
   ]
  },
  {
   "cell_type": "markdown",
   "id": "98aa452e",
   "metadata": {},
   "source": [
    "Based on this I had a look at ratings, favorite counts and number of retweets for each of these top 10 dog breeds."
   ]
  },
  {
   "cell_type": "markdown",
   "id": "59c96025",
   "metadata": {},
   "source": [
    "<div>\n",
    "<img src=\"./plots/average_rating_top10_breeds.png\" width=\"800\"/>\n",
    "</div>"
   ]
  },
  {
   "cell_type": "markdown",
   "id": "62d2a731",
   "metadata": {},
   "source": [
    "<div>\n",
    "<img src=\"./plots/favorite_counts_top10_breeds.png\" width=\"800\"/>\n",
    "</div>"
   ]
  },
  {
   "cell_type": "markdown",
   "id": "78f77bb2",
   "metadata": {},
   "source": [
    "<div>\n",
    "<img src=\"./plots/retweets_counts_top10_breeds.png\" width=\"800\"/>\n",
    "</div>"
   ]
  },
  {
   "cell_type": "markdown",
   "id": "984d19dd",
   "metadata": {},
   "source": [
    "Not surprising there is a clear correlation between retweets and favorites. But what about the rating bases on favorites or retweets? Here we look at a scatter plot."
   ]
  },
  {
   "cell_type": "markdown",
   "id": "c991a851",
   "metadata": {},
   "source": [
    "<div>\n",
    "<img src=\"./plots/favorite_counts_based_on_rating.png\" width=\"800\"/>\n",
    "</div>"
   ]
  },
  {
   "cell_type": "markdown",
   "id": "9fd954c3",
   "metadata": {},
   "source": [
    "I ran an OLS regression on to analyze the significance of the correlation. Here is the output.\n",
    "<div>\n",
    "<img src=\"./plots/OLS_regression_output.png\" width=\"1000\"/>\n",
    "</div>\n"
   ]
  },
  {
   "cell_type": "markdown",
   "id": "62d27e85",
   "metadata": {},
   "source": [
    "As we see there is a clear correlation between both variables (p = 0.00)"
   ]
  },
  {
   "cell_type": "markdown",
   "id": "ac39b6b0",
   "metadata": {},
   "source": [
    "## Conclusion"
   ]
  },
  {
   "cell_type": "markdown",
   "id": "182303a9",
   "metadata": {},
   "source": [
    "We were looking at recognized dog breeds and saw which breeds get higher ratings, favorite and retweet counts.\n",
    "Additionally we looked on the correlation between rating and favorite counts. \n",
    "Based on the data there is a significant correlation between the two.\n",
    "\n",
    "Limitations:\n",
    "* As there are many different dog breeds, value counts for each breed are relatively small (33-155 individual tweets per dog breed) - all observations are therefore limited\n",
    "* A central assumption concerning the dog breed was that the image recognition algorithm is reliable. I didn't double check on this, so this may also have significant impact on the result."
   ]
  }
 ],
 "metadata": {
  "kernelspec": {
   "display_name": "Python [conda env:Data_Analyst] *",
   "language": "python",
   "name": "conda-env-Data_Analyst-py"
  },
  "language_info": {
   "codemirror_mode": {
    "name": "ipython",
    "version": 3
   },
   "file_extension": ".py",
   "mimetype": "text/x-python",
   "name": "python",
   "nbconvert_exporter": "python",
   "pygments_lexer": "ipython3",
   "version": "3.6.13"
  }
 },
 "nbformat": 4,
 "nbformat_minor": 5
}
